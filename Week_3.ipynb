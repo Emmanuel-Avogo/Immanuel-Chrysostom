{
  "cells": [
    {
      "cell_type": "markdown",
      "metadata": {
        "id": "view-in-github",
        "colab_type": "text"
      },
      "source": [
        "<a href=\"https://colab.research.google.com/github/Emmanuel-Avogo/Immanuel-Chrysostom/blob/main/Week_3.ipynb\" target=\"_parent\"><img src=\"https://colab.research.google.com/assets/colab-badge.svg\" alt=\"Open In Colab\"/></a>"
      ]
    },
    {
      "cell_type": "markdown",
      "source": [
        "# Week 3 SA"
      ],
      "metadata": {
        "datalore": {
          "node_id": "zGa7mCHaDDruHtkm7dEPtv",
          "type": "MD",
          "hide_input_from_viewers": true,
          "hide_output_from_viewers": true
        },
        "id": "9fXYRAZNedIJ"
      }
    },
    {
      "cell_type": "markdown",
      "source": [
        "Hey Everyone!!\n",
        "We hope that you are excited to apply your newly acquired knowledge and test it on this notebook.\n",
        "In this assignment, we will be walking through creating an email classifier based the content the mail has."
      ],
      "metadata": {
        "datalore": {
          "node_id": "U1ZcRPN3LUr8T0AFox9HNj",
          "type": "MD",
          "hide_input_from_viewers": true,
          "hide_output_from_viewers": true
        },
        "id": "Dj0utpCXedIT"
      }
    },
    {
      "cell_type": "markdown",
      "source": [
        "## About the data"
      ],
      "metadata": {
        "datalore": {
          "node_id": "z4auZFCdOYmoX3bMIniLkV",
          "type": "MD",
          "hide_input_from_viewers": true,
          "hide_output_from_viewers": true
        },
        "id": "9j9C9712edIV"
      }
    },
    {
      "cell_type": "markdown",
      "source": [
        "The data \"email.csv\" has a few rows and about 3K columns including <b>Email_no.</b> and <b>spam</b>. <br>\n",
        "Email_no. is like a unique id for an email and spam denotes whether the given mail is a spam or not (0 = not spam, 1 = spam)<br>\n",
        "Rest of the columns are words in english with the values being equal to the frequency of that word in the email.\n",
        "<br>Our goal is to predict whether the given mail is spam or not"
      ],
      "metadata": {
        "datalore": {
          "node_id": "oqqW6dUiQklEDKoCWXWv5O",
          "type": "MD",
          "hide_input_from_viewers": true,
          "hide_output_from_viewers": true
        },
        "id": "FWF9RG6DedIW"
      }
    },
    {
      "cell_type": "markdown",
      "source": [
        "## Importing useful libraries"
      ],
      "metadata": {
        "datalore": {
          "node_id": "JAyWVZVGuGxuIiAHDsq61b",
          "type": "MD",
          "hide_input_from_viewers": true,
          "hide_output_from_viewers": true
        },
        "id": "9nU9JhT6edIY"
      }
    },
    {
      "cell_type": "code",
      "source": [
        "import pandas as pd\n",
        "import numpy as np"
      ],
      "execution_count": 1,
      "outputs": [],
      "metadata": {
        "datalore": {
          "node_id": "MGF6Kw4xf8SePOYMc0lIF1",
          "type": "CODE",
          "hide_input_from_viewers": true,
          "hide_output_from_viewers": true
        },
        "id": "hcr5db_yedIZ"
      }
    },
    {
      "cell_type": "markdown",
      "source": [
        "## Loading the data\n",
        "### If you are using Datalore, you may use the csv file directly. Otherwise you may download it from <a href = \"https://drive.google.com/file/d/1OxJ6SSuPypg-AfLbMRl0O9So9aDDNzbC/view?usp=sharing\">this link</a>"
      ],
      "metadata": {
        "datalore": {
          "node_id": "8QlDKKKCWpgnkoXHPYswvd",
          "type": "MD",
          "hide_input_from_viewers": true,
          "hide_output_from_viewers": true
        },
        "id": "NPu1v8DPedIc"
      }
    },
    {
      "cell_type": "code",
      "source": [
        "df = pd.read_csv('emails.csv')"
      ],
      "execution_count": 2,
      "outputs": [],
      "metadata": {
        "datalore": {
          "node_id": "awQRzUu3t4PZmOtlTbPn44",
          "type": "CODE",
          "hide_input_from_viewers": true,
          "hide_output_from_viewers": true
        },
        "id": "vFn8r5hyedIe"
      }
    },
    {
      "cell_type": "markdown",
      "source": [
        "## Describe the data and generate some basic insights unsing methods like .info"
      ],
      "metadata": {
        "datalore": {
          "node_id": "ex2R3oVXRwyZaziX9HkcGp",
          "type": "MD",
          "hide_input_from_viewers": true,
          "hide_output_from_viewers": true
        },
        "id": "twKSglhgedIf"
      }
    },
    {
      "cell_type": "code",
      "source": [
        "df.head()"
      ],
      "execution_count": 3,
      "outputs": [
        {
          "output_type": "execute_result",
          "data": {
            "text/plain": [
              "  Email No.  the  to  ect  and  for  of    a  you  hou  ...  connevey  jay  \\\n",
              "0   Email 1    0   0    1    0    0   0    2    0    0  ...       0.0  0.0   \n",
              "1   Email 2    8  13   24    6    6   2  102    1   27  ...       0.0  0.0   \n",
              "2   Email 3    0   0    1    0    0   0    8    0    0  ...       0.0  0.0   \n",
              "3   Email 4    0   5   22    0    5   1   51    2   10  ...       0.0  0.0   \n",
              "4   Email 5    7   6   17    1    5   2   57    0    9  ...       0.0  0.0   \n",
              "\n",
              "   valued  lay  infrastructure  military  allowing   ff  dry  Prediction  \n",
              "0     0.0  0.0             0.0       0.0       0.0  0.0  0.0         0.0  \n",
              "1     0.0  0.0             0.0       0.0       0.0  1.0  0.0         0.0  \n",
              "2     0.0  0.0             0.0       0.0       0.0  0.0  0.0         0.0  \n",
              "3     0.0  0.0             0.0       0.0       0.0  0.0  0.0         0.0  \n",
              "4     0.0  0.0             0.0       0.0       0.0  1.0  0.0         0.0  \n",
              "\n",
              "[5 rows x 3002 columns]"
            ],
            "text/html": [
              "\n",
              "  <div id=\"df-023aee66-845f-4ff3-9a28-234d431f44c5\">\n",
              "    <div class=\"colab-df-container\">\n",
              "      <div>\n",
              "<style scoped>\n",
              "    .dataframe tbody tr th:only-of-type {\n",
              "        vertical-align: middle;\n",
              "    }\n",
              "\n",
              "    .dataframe tbody tr th {\n",
              "        vertical-align: top;\n",
              "    }\n",
              "\n",
              "    .dataframe thead th {\n",
              "        text-align: right;\n",
              "    }\n",
              "</style>\n",
              "<table border=\"1\" class=\"dataframe\">\n",
              "  <thead>\n",
              "    <tr style=\"text-align: right;\">\n",
              "      <th></th>\n",
              "      <th>Email No.</th>\n",
              "      <th>the</th>\n",
              "      <th>to</th>\n",
              "      <th>ect</th>\n",
              "      <th>and</th>\n",
              "      <th>for</th>\n",
              "      <th>of</th>\n",
              "      <th>a</th>\n",
              "      <th>you</th>\n",
              "      <th>hou</th>\n",
              "      <th>...</th>\n",
              "      <th>connevey</th>\n",
              "      <th>jay</th>\n",
              "      <th>valued</th>\n",
              "      <th>lay</th>\n",
              "      <th>infrastructure</th>\n",
              "      <th>military</th>\n",
              "      <th>allowing</th>\n",
              "      <th>ff</th>\n",
              "      <th>dry</th>\n",
              "      <th>Prediction</th>\n",
              "    </tr>\n",
              "  </thead>\n",
              "  <tbody>\n",
              "    <tr>\n",
              "      <th>0</th>\n",
              "      <td>Email 1</td>\n",
              "      <td>0</td>\n",
              "      <td>0</td>\n",
              "      <td>1</td>\n",
              "      <td>0</td>\n",
              "      <td>0</td>\n",
              "      <td>0</td>\n",
              "      <td>2</td>\n",
              "      <td>0</td>\n",
              "      <td>0</td>\n",
              "      <td>...</td>\n",
              "      <td>0.0</td>\n",
              "      <td>0.0</td>\n",
              "      <td>0.0</td>\n",
              "      <td>0.0</td>\n",
              "      <td>0.0</td>\n",
              "      <td>0.0</td>\n",
              "      <td>0.0</td>\n",
              "      <td>0.0</td>\n",
              "      <td>0.0</td>\n",
              "      <td>0.0</td>\n",
              "    </tr>\n",
              "    <tr>\n",
              "      <th>1</th>\n",
              "      <td>Email 2</td>\n",
              "      <td>8</td>\n",
              "      <td>13</td>\n",
              "      <td>24</td>\n",
              "      <td>6</td>\n",
              "      <td>6</td>\n",
              "      <td>2</td>\n",
              "      <td>102</td>\n",
              "      <td>1</td>\n",
              "      <td>27</td>\n",
              "      <td>...</td>\n",
              "      <td>0.0</td>\n",
              "      <td>0.0</td>\n",
              "      <td>0.0</td>\n",
              "      <td>0.0</td>\n",
              "      <td>0.0</td>\n",
              "      <td>0.0</td>\n",
              "      <td>0.0</td>\n",
              "      <td>1.0</td>\n",
              "      <td>0.0</td>\n",
              "      <td>0.0</td>\n",
              "    </tr>\n",
              "    <tr>\n",
              "      <th>2</th>\n",
              "      <td>Email 3</td>\n",
              "      <td>0</td>\n",
              "      <td>0</td>\n",
              "      <td>1</td>\n",
              "      <td>0</td>\n",
              "      <td>0</td>\n",
              "      <td>0</td>\n",
              "      <td>8</td>\n",
              "      <td>0</td>\n",
              "      <td>0</td>\n",
              "      <td>...</td>\n",
              "      <td>0.0</td>\n",
              "      <td>0.0</td>\n",
              "      <td>0.0</td>\n",
              "      <td>0.0</td>\n",
              "      <td>0.0</td>\n",
              "      <td>0.0</td>\n",
              "      <td>0.0</td>\n",
              "      <td>0.0</td>\n",
              "      <td>0.0</td>\n",
              "      <td>0.0</td>\n",
              "    </tr>\n",
              "    <tr>\n",
              "      <th>3</th>\n",
              "      <td>Email 4</td>\n",
              "      <td>0</td>\n",
              "      <td>5</td>\n",
              "      <td>22</td>\n",
              "      <td>0</td>\n",
              "      <td>5</td>\n",
              "      <td>1</td>\n",
              "      <td>51</td>\n",
              "      <td>2</td>\n",
              "      <td>10</td>\n",
              "      <td>...</td>\n",
              "      <td>0.0</td>\n",
              "      <td>0.0</td>\n",
              "      <td>0.0</td>\n",
              "      <td>0.0</td>\n",
              "      <td>0.0</td>\n",
              "      <td>0.0</td>\n",
              "      <td>0.0</td>\n",
              "      <td>0.0</td>\n",
              "      <td>0.0</td>\n",
              "      <td>0.0</td>\n",
              "    </tr>\n",
              "    <tr>\n",
              "      <th>4</th>\n",
              "      <td>Email 5</td>\n",
              "      <td>7</td>\n",
              "      <td>6</td>\n",
              "      <td>17</td>\n",
              "      <td>1</td>\n",
              "      <td>5</td>\n",
              "      <td>2</td>\n",
              "      <td>57</td>\n",
              "      <td>0</td>\n",
              "      <td>9</td>\n",
              "      <td>...</td>\n",
              "      <td>0.0</td>\n",
              "      <td>0.0</td>\n",
              "      <td>0.0</td>\n",
              "      <td>0.0</td>\n",
              "      <td>0.0</td>\n",
              "      <td>0.0</td>\n",
              "      <td>0.0</td>\n",
              "      <td>1.0</td>\n",
              "      <td>0.0</td>\n",
              "      <td>0.0</td>\n",
              "    </tr>\n",
              "  </tbody>\n",
              "</table>\n",
              "<p>5 rows × 3002 columns</p>\n",
              "</div>\n",
              "      <button class=\"colab-df-convert\" onclick=\"convertToInteractive('df-023aee66-845f-4ff3-9a28-234d431f44c5')\"\n",
              "              title=\"Convert this dataframe to an interactive table.\"\n",
              "              style=\"display:none;\">\n",
              "        \n",
              "  <svg xmlns=\"http://www.w3.org/2000/svg\" height=\"24px\"viewBox=\"0 0 24 24\"\n",
              "       width=\"24px\">\n",
              "    <path d=\"M0 0h24v24H0V0z\" fill=\"none\"/>\n",
              "    <path d=\"M18.56 5.44l.94 2.06.94-2.06 2.06-.94-2.06-.94-.94-2.06-.94 2.06-2.06.94zm-11 1L8.5 8.5l.94-2.06 2.06-.94-2.06-.94L8.5 2.5l-.94 2.06-2.06.94zm10 10l.94 2.06.94-2.06 2.06-.94-2.06-.94-.94-2.06-.94 2.06-2.06.94z\"/><path d=\"M17.41 7.96l-1.37-1.37c-.4-.4-.92-.59-1.43-.59-.52 0-1.04.2-1.43.59L10.3 9.45l-7.72 7.72c-.78.78-.78 2.05 0 2.83L4 21.41c.39.39.9.59 1.41.59.51 0 1.02-.2 1.41-.59l7.78-7.78 2.81-2.81c.8-.78.8-2.07 0-2.86zM5.41 20L4 18.59l7.72-7.72 1.47 1.35L5.41 20z\"/>\n",
              "  </svg>\n",
              "      </button>\n",
              "      \n",
              "  <style>\n",
              "    .colab-df-container {\n",
              "      display:flex;\n",
              "      flex-wrap:wrap;\n",
              "      gap: 12px;\n",
              "    }\n",
              "\n",
              "    .colab-df-convert {\n",
              "      background-color: #E8F0FE;\n",
              "      border: none;\n",
              "      border-radius: 50%;\n",
              "      cursor: pointer;\n",
              "      display: none;\n",
              "      fill: #1967D2;\n",
              "      height: 32px;\n",
              "      padding: 0 0 0 0;\n",
              "      width: 32px;\n",
              "    }\n",
              "\n",
              "    .colab-df-convert:hover {\n",
              "      background-color: #E2EBFA;\n",
              "      box-shadow: 0px 1px 2px rgba(60, 64, 67, 0.3), 0px 1px 3px 1px rgba(60, 64, 67, 0.15);\n",
              "      fill: #174EA6;\n",
              "    }\n",
              "\n",
              "    [theme=dark] .colab-df-convert {\n",
              "      background-color: #3B4455;\n",
              "      fill: #D2E3FC;\n",
              "    }\n",
              "\n",
              "    [theme=dark] .colab-df-convert:hover {\n",
              "      background-color: #434B5C;\n",
              "      box-shadow: 0px 1px 3px 1px rgba(0, 0, 0, 0.15);\n",
              "      filter: drop-shadow(0px 1px 2px rgba(0, 0, 0, 0.3));\n",
              "      fill: #FFFFFF;\n",
              "    }\n",
              "  </style>\n",
              "\n",
              "      <script>\n",
              "        const buttonEl =\n",
              "          document.querySelector('#df-023aee66-845f-4ff3-9a28-234d431f44c5 button.colab-df-convert');\n",
              "        buttonEl.style.display =\n",
              "          google.colab.kernel.accessAllowed ? 'block' : 'none';\n",
              "\n",
              "        async function convertToInteractive(key) {\n",
              "          const element = document.querySelector('#df-023aee66-845f-4ff3-9a28-234d431f44c5');\n",
              "          const dataTable =\n",
              "            await google.colab.kernel.invokeFunction('convertToInteractive',\n",
              "                                                     [key], {});\n",
              "          if (!dataTable) return;\n",
              "\n",
              "          const docLinkHtml = 'Like what you see? Visit the ' +\n",
              "            '<a target=\"_blank\" href=https://colab.research.google.com/notebooks/data_table.ipynb>data table notebook</a>'\n",
              "            + ' to learn more about interactive tables.';\n",
              "          element.innerHTML = '';\n",
              "          dataTable['output_type'] = 'display_data';\n",
              "          await google.colab.output.renderOutput(dataTable, element);\n",
              "          const docLink = document.createElement('div');\n",
              "          docLink.innerHTML = docLinkHtml;\n",
              "          element.appendChild(docLink);\n",
              "        }\n",
              "      </script>\n",
              "    </div>\n",
              "  </div>\n",
              "  "
            ]
          },
          "metadata": {},
          "execution_count": 3
        }
      ],
      "metadata": {
        "datalore": {
          "node_id": "yfyNpm25jyzCNCFOWtDwlM",
          "type": "CODE",
          "hide_input_from_viewers": true,
          "hide_output_from_viewers": true
        },
        "colab": {
          "base_uri": "https://localhost:8080/",
          "height": 280
        },
        "id": "aIP2sEhuedIh",
        "outputId": "d6d7f430-48fb-4fbf-ff9b-2df8e4913476"
      }
    },
    {
      "cell_type": "markdown",
      "source": [
        "## Looking at the data"
      ],
      "metadata": {
        "datalore": {
          "node_id": "zvjpKUkrIVkahpty2eoRva",
          "type": "MD",
          "hide_input_from_viewers": true,
          "hide_output_from_viewers": true
        },
        "id": "qVL4yoWRedIk"
      }
    },
    {
      "cell_type": "code",
      "source": [
        "df[\"spam\"].unique()\n",
        "df[\"spam\"].fillna(df[\"spam\"].median(), inplace=True)"
      ],
      "metadata": {
        "id": "eJcaEJv3-59L"
      },
      "execution_count": 4,
      "outputs": []
    },
    {
      "cell_type": "code",
      "source": [
        "# Plot histogram to visualize the top 5 common words in spam mail and non-spam mails seperately."
      ],
      "execution_count": 5,
      "outputs": [],
      "metadata": {
        "datalore": {
          "node_id": "CFY6hpEHnTNc05xveVXitg",
          "type": "CODE",
          "hide_input_from_viewers": true,
          "hide_output_from_viewers": true
        },
        "id": "4IqH__MAedIl"
      }
    },
    {
      "cell_type": "code",
      "source": [
        "# Separating the spam and non-spam emails\n",
        "spam_emails = df[df['spam'] == 1]\n",
        "non_spam_emails = df[df['spam'] == 0]"
      ],
      "metadata": {
        "id": "AR1J0OFtq3VW"
      },
      "execution_count": 6,
      "outputs": []
    },
    {
      "cell_type": "code",
      "source": [
        "# Calculating the frequency of each word in spam emails\n",
        "spam_word_frequency = spam_emails.iloc[:, 2:].sum()\n",
        "\n",
        "# the frequency of each word in non-spam emails\n",
        "non_spam_word_frequency = non_spam_emails.iloc[:, 2:].sum()"
      ],
      "metadata": {
        "id": "iAR6wsq5q4UL"
      },
      "execution_count": 7,
      "outputs": []
    },
    {
      "cell_type": "code",
      "source": [
        "# the top 5 common words in spam emails\n",
        "top_spam_words = spam_word_frequency.nlargest(5)\n",
        "\n",
        "# the top 5 common words in non-spam emails\n",
        "top_non_spam_words = non_spam_word_frequency.nlargest(5)"
      ],
      "metadata": {
        "id": "dMVt3ttwrM1-"
      },
      "execution_count": 8,
      "outputs": []
    },
    {
      "cell_type": "code",
      "source": [
        "# Histogram plots\n",
        "import matplotlib.pyplot as plt\n",
        "plt.figure(figsize=(10, 5))\n",
        "\n",
        "plt.subplot(1, 2, 1)\n",
        "plt.bar(top_spam_words.index, top_spam_words.values)\n",
        "plt.title(\"Top 5 Common Words in Spam Emails\")\n",
        "plt.xlabel(\"Words\")\n",
        "plt.ylabel(\"Frequency\")\n",
        "\n",
        "plt.subplot(1, 2, 2)\n",
        "plt.bar(top_non_spam_words.index, top_non_spam_words.values)\n",
        "plt.title(\"Top 5 Common Words in Non-Spam Emails\")\n",
        "plt.xlabel(\"Words\")\n",
        "plt.ylabel(\"Frequency\")\n",
        "\n",
        "plt.tight_layout()\n",
        "plt.show()"
      ],
      "metadata": {
        "id": "kLtfIswgqPeF",
        "outputId": "4d32260f-ffd5-4256-cfaa-e69b020b58d6",
        "colab": {
          "base_uri": "https://localhost:8080/",
          "height": 507
        }
      },
      "execution_count": 9,
      "outputs": [
        {
          "output_type": "display_data",
          "data": {
            "text/plain": [
              "<Figure size 1000x500 with 2 Axes>"
            ],
            "image/png": "[encoded data removed]"
          },
          "metadata": {}
        }
      ]
    },
    {
      "cell_type": "markdown",
      "source": [
        "## Figuring out some comparatively more important features"
      ],
      "metadata": {
        "datalore": {
          "node_id": "C3PCd8f8vDpy1xh1S0jLnr",
          "type": "MD",
          "hide_input_from_viewers": true,
          "hide_output_from_viewers": true
        },
        "id": "6OXiOCSJedIm"
      }
    },
    {
      "cell_type": "code",
      "source": [
        "# There are 3K rows given in this dataset, can you think of some method to reduce the number of columns in the dataset?\n",
        "# Try taking only top 1.5K that will comprise of some of the most \"deciding factors\""
      ],
      "execution_count": 10,
      "outputs": [],
      "metadata": {
        "datalore": {
          "node_id": "2ZKzjK3mKBGSfxz73JEBVF",
          "type": "CODE",
          "hide_input_from_viewers": true,
          "hide_output_from_viewers": true
        },
        "id": "O-aeym3tedIn"
      }
    },
    {
      "cell_type": "markdown",
      "source": [
        "To reduce the number of columns in the dataset from 3K to the top 1.5K, we can use the variance thresholding approach since  the \"spam\" column represents the target variable, our assumed binary classification problem is (spam vs. non-spam)."
      ],
      "metadata": {
        "id": "tkfRElCStVWS"
      }
    },
    {
      "cell_type": "code",
      "source": [
        "pip install scikit-learn"
      ],
      "metadata": {
        "id": "czJZDh5cvzJV",
        "outputId": "9ffd1b6c-0c42-40ae-db09-7960ed3f9383",
        "colab": {
          "base_uri": "https://localhost:8080/"
        }
      },
      "execution_count": 11,
      "outputs": [
        {
          "output_type": "stream",
          "name": "stdout",
          "text": [
            "Looking in indexes: https://pypi.org/simple, https://us-python.pkg.dev/colab-wheels/public/simple/\n",
            "Requirement already satisfied: scikit-learn in /usr/local/lib/python3.10/dist-packages (1.2.2)\n",
            "Requirement already satisfied: numpy>=1.17.3 in /usr/local/lib/python3.10/dist-packages (from scikit-learn) (1.22.4)\n",
            "Requirement already satisfied: scipy>=1.3.2 in /usr/local/lib/python3.10/dist-packages (from scikit-learn) (1.10.1)\n",
            "Requirement already satisfied: joblib>=1.1.1 in /usr/local/lib/python3.10/dist-packages (from scikit-learn) (1.2.0)\n",
            "Requirement already satisfied: threadpoolctl>=2.0.0 in /usr/local/lib/python3.10/dist-packages (from scikit-learn) (3.1.0)\n"
          ]
        }
      ]
    },
    {
      "cell_type": "code",
      "source": [
        "from sklearn.feature_selection import VarianceThreshold"
      ],
      "metadata": {
        "id": "-h1pnq68wKCB"
      },
      "execution_count": 12,
      "outputs": []
    },
    {
      "cell_type": "code",
      "source": [
        "# the features and target variable\n",
        "X = df.iloc[:, 1:]\n",
        "y = df[\"spam\"]\n",
        "\n",
        "variance_selector = VarianceThreshold(threshold=0.0)\n",
        "X_reduced = variance_selector.fit_transform(X)\n",
        "feature_variances = variance_selector.variances_\n",
        "\n",
        "# Sorting the variances to get the indices of the top 1.5K features\n",
        "selected_features_indices = feature_variances.argsort()[-1500:][::-1]\n",
        "X_reduced = X.iloc[:, selected_features_indices]\n",
        "\n",
        "print(\"Original shape:\", X.shape)\n",
        "print(\"Reduced shape:\", X_reduced.shape)"
      ],
      "metadata": {
        "id": "Wbi-CovMx293",
        "outputId": "a463b1a8-baef-435d-ad03-e3af3bbdf242",
        "colab": {
          "base_uri": "https://localhost:8080/"
        }
      },
      "execution_count": 13,
      "outputs": [
        {
          "output_type": "stream",
          "name": "stdout",
          "text": [
            "Original shape: (865, 3001)\n",
            "Reduced shape: (865, 1500)\n"
          ]
        }
      ]
    },
    {
      "cell_type": "markdown",
      "source": [
        "## Train - Test Split"
      ],
      "metadata": {
        "datalore": {
          "node_id": "5xGBoaQ3gyqscgTKblwyrX",
          "type": "MD",
          "hide_input_from_viewers": true,
          "hide_output_from_viewers": true
        },
        "id": "SZ6MCY9JedIo"
      }
    },
    {
      "cell_type": "code",
      "source": [
        "# Create trianing and testing data"
      ],
      "execution_count": 14,
      "outputs": [],
      "metadata": {
        "datalore": {
          "node_id": "DIQmF7EKujPfytxRg3YCI7",
          "type": "CODE",
          "hide_input_from_viewers": true,
          "hide_output_from_viewers": true
        },
        "id": "9VT8tdm4edIp"
      }
    },
    {
      "cell_type": "code",
      "source": [
        "from sklearn.model_selection import train_test_split\n",
        "\n",
        "X_train, X_test, y_train, y_test = train_test_split(X_reduced, y, test_size=0.2, random_state=42)\n",
        "\n",
        "print(\"Training data shape:\", X_train.shape)\n",
        "print(\"Testing data shape:\", X_test.shape)"
      ],
      "metadata": {
        "id": "0rgTYhZDKogp",
        "outputId": "770c6ab8-60f9-4a8a-f6f0-d01ab17e5329",
        "colab": {
          "base_uri": "https://localhost:8080/"
        }
      },
      "execution_count": 17,
      "outputs": [
        {
          "output_type": "stream",
          "name": "stdout",
          "text": [
            "Training data shape: (692, 1500)\n",
            "Testing data shape: (173, 1500)\n"
          ]
        }
      ]
    },
    {
      "cell_type": "markdown",
      "source": [
        "## Making Predictions using Multinomial NB Classifier"
      ],
      "metadata": {
        "datalore": {
          "node_id": "UN8loYrBwgtFXUDewcXM17",
          "type": "MD",
          "hide_input_from_viewers": true,
          "hide_output_from_viewers": true
        },
        "id": "SxUHs5BledIp"
      }
    },
    {
      "cell_type": "code",
      "source": [
        "# Feed the train data into multinomial naive bias classifier"
      ],
      "execution_count": 18,
      "outputs": [],
      "metadata": {
        "datalore": {
          "node_id": "6yp042arvwnqg0LGrmuWWV",
          "type": "CODE",
          "hide_input_from_viewers": true,
          "hide_output_from_viewers": true
        },
        "id": "2Gx_B9DWedIq"
      }
    },
    {
      "cell_type": "code",
      "source": [
        "from sklearn.naive_bayes import MultinomialNB\n",
        "from sklearn.impute import SimpleImputer\n",
        "\n",
        "# the SimpleImputer will impute missing values with zeros\n",
        "imputer = SimpleImputer(strategy='constant', fill_value=0)\n",
        "\n",
        "X_train_imputed = imputer.fit_transform(X_train)\n",
        "y_train_imputed = imputer.fit_transform(y_train.values.reshape(-1, 1)).ravel()\n",
        "\n",
        "nb_classifier = MultinomialNB()\n",
        "nb_classifier.fit(X_train_imputed, y_train_imputed)"
      ],
      "metadata": {
        "id": "UYfYHRk-zhX8",
        "outputId": "70d7ed70-90dd-4b4c-bbc2-d2e614ba3df9",
        "colab": {
          "base_uri": "https://localhost:8080/",
          "height": 75
        }
      },
      "execution_count": 19,
      "outputs": [
        {
          "output_type": "execute_result",
          "data": {
            "text/plain": [
              "MultinomialNB()"
            ],
            "text/html": [
              "<style>#sk-container-id-1 {color: black;background-color: white;}#sk-container-id-1 pre{padding: 0;}#sk-container-id-1 div.sk-toggleable {background-color: white;}#sk-container-id-1 label.sk-toggleable__label {cursor: pointer;display: block;width: 100%;margin-bottom: 0;padding: 0.3em;box-sizing: border-box;text-align: center;}#sk-container-id-1 label.sk-toggleable__label-arrow:before {content: \"▸\";float: left;margin-right: 0.25em;color: #696969;}#sk-container-id-1 label.sk-toggleable__label-arrow:hover:before {color: black;}#sk-container-id-1 div.sk-estimator:hover label.sk-toggleable__label-arrow:before {color: black;}#sk-container-id-1 div.sk-toggleable__content {max-height: 0;max-width: 0;overflow: hidden;text-align: left;background-color: #f0f8ff;}#sk-container-id-1 div.sk-toggleable__content pre {margin: 0.2em;color: black;border-radius: 0.25em;background-color: #f0f8ff;}#sk-container-id-1 input.sk-toggleable__control:checked~div.sk-toggleable__content {max-height: 200px;max-width: 100%;overflow: auto;}#sk-container-id-1 input.sk-toggleable__control:checked~label.sk-toggleable__label-arrow:before {content: \"▾\";}#sk-container-id-1 div.sk-estimator input.sk-toggleable__control:checked~label.sk-toggleable__label {background-color: #d4ebff;}#sk-container-id-1 div.sk-label input.sk-toggleable__control:checked~label.sk-toggleable__label {background-color: #d4ebff;}#sk-container-id-1 input.sk-hidden--visually {border: 0;clip: rect(1px 1px 1px 1px);clip: rect(1px, 1px, 1px, 1px);height: 1px;margin: -1px;overflow: hidden;padding: 0;position: absolute;width: 1px;}#sk-container-id-1 div.sk-estimator {font-family: monospace;background-color: #f0f8ff;border: 1px dotted black;border-radius: 0.25em;box-sizing: border-box;margin-bottom: 0.5em;}#sk-container-id-1 div.sk-estimator:hover {background-color: #d4ebff;}#sk-container-id-1 div.sk-parallel-item::after {content: \"\";width: 100%;border-bottom: 1px solid gray;flex-grow: 1;}#sk-container-id-1 div.sk-label:hover label.sk-toggleable__label {background-color: #d4ebff;}#sk-container-id-1 div.sk-serial::before {content: \"\";position: absolute;border-left: 1px solid gray;box-sizing: border-box;top: 0;bottom: 0;left: 50%;z-index: 0;}#sk-container-id-1 div.sk-serial {display: flex;flex-direction: column;align-items: center;background-color: white;padding-right: 0.2em;padding-left: 0.2em;position: relative;}#sk-container-id-1 div.sk-item {position: relative;z-index: 1;}#sk-container-id-1 div.sk-parallel {display: flex;align-items: stretch;justify-content: center;background-color: white;position: relative;}#sk-container-id-1 div.sk-item::before, #sk-container-id-1 div.sk-parallel-item::before {content: \"\";position: absolute;border-left: 1px solid gray;box-sizing: border-box;top: 0;bottom: 0;left: 50%;z-index: -1;}#sk-container-id-1 div.sk-parallel-item {display: flex;flex-direction: column;z-index: 1;position: relative;background-color: white;}#sk-container-id-1 div.sk-parallel-item:first-child::after {align-self: flex-end;width: 50%;}#sk-container-id-1 div.sk-parallel-item:last-child::after {align-self: flex-start;width: 50%;}#sk-container-id-1 div.sk-parallel-item:only-child::after {width: 0;}#sk-container-id-1 div.sk-dashed-wrapped {border: 1px dashed gray;margin: 0 0.4em 0.5em 0.4em;box-sizing: border-box;padding-bottom: 0.4em;background-color: white;}#sk-container-id-1 div.sk-label label {font-family: monospace;font-weight: bold;display: inline-block;line-height: 1.2em;}#sk-container-id-1 div.sk-label-container {text-align: center;}#sk-container-id-1 div.sk-container {/* jupyter's `normalize.less` sets `[hidden] { display: none; }` but bootstrap.min.css set `[hidden] { display: none !important; }` so we also need the `!important` here to be able to override the default hidden behavior on the sphinx rendered scikit-learn.org. See: https://github.com/scikit-learn/scikit-learn/issues/21755 */display: inline-block !important;position: relative;}#sk-container-id-1 div.sk-text-repr-fallback {display: none;}</style><div id=\"sk-container-id-1\" class=\"sk-top-container\"><div class=\"sk-text-repr-fallback\"><pre>MultinomialNB()</pre><b>In a Jupyter environment, please rerun this cell to show the HTML representation or trust the notebook. <br />On GitHub, the HTML representation is unable to render, please try loading this page with nbviewer.org.</b></div><div class=\"sk-container\" hidden><div class=\"sk-item\"><div class=\"sk-estimator sk-toggleable\"><input class=\"sk-toggleable__control sk-hidden--visually\" id=\"sk-estimator-id-1\" type=\"checkbox\" checked><label for=\"sk-estimator-id-1\" class=\"sk-toggleable__label sk-toggleable__label-arrow\">MultinomialNB</label><div class=\"sk-toggleable__content\"><pre>MultinomialNB()</pre></div></div></div></div></div>"
            ]
          },
          "metadata": {},
          "execution_count": 19
        }
      ]
    },
    {
      "cell_type": "code",
      "source": [
        "# we will use the trained classifier to make predictions on the testing data\n",
        "y_pred = nb_classifier.predict(X_test)"
      ],
      "metadata": {
        "id": "AOHtGXDuziuP",
        "outputId": "621318f9-da2c-4b2f-f9da-d07ca0e93f06",
        "colab": {
          "base_uri": "https://localhost:8080/"
        }
      },
      "execution_count": 20,
      "outputs": [
        {
          "output_type": "stream",
          "name": "stderr",
          "text": [
            "/usr/local/lib/python3.10/dist-packages/sklearn/base.py:432: UserWarning: X has feature names, but MultinomialNB was fitted without feature names\n",
            "  warnings.warn(\n"
          ]
        }
      ]
    },
    {
      "cell_type": "code",
      "source": [
        "# Check the model's accuracy of test data and plot the ROC-AUC curve"
      ],
      "execution_count": 21,
      "outputs": [],
      "metadata": {
        "datalore": {
          "node_id": "wtCFPWcgIz4aAXhzKV6wE8",
          "type": "CODE",
          "hide_input_from_viewers": true,
          "hide_output_from_viewers": true
        },
        "id": "tfkTP4OledIr"
      }
    },
    {
      "cell_type": "code",
      "source": [
        "# we will calculate the accuracy of the model by comparing the predicted labels (y_pred) with the actual labels (y_test)\n",
        "from sklearn.metrics import accuracy_score\n",
        "\n",
        "accuracy = accuracy_score(y_test, y_pred)\n",
        "print(\"Accuracy:\", accuracy)"
      ],
      "metadata": {
        "id": "VJDLbSAd1qmY",
        "outputId": "017afe44-180c-4d72-a536-4efbb99bfcb9",
        "colab": {
          "base_uri": "https://localhost:8080/"
        }
      },
      "execution_count": 22,
      "outputs": [
        {
          "output_type": "stream",
          "name": "stdout",
          "text": [
            "Accuracy: 1.0\n"
          ]
        }
      ]
    },
    {
      "cell_type": "markdown",
      "source": [
        "To plot the ROC curve and calculate the AUC score, we need to obtain the predicted probabilities of the positive class (spam)."
      ],
      "metadata": {
        "id": "pT8MxOLE3J62"
      }
    },
    {
      "cell_type": "code",
      "source": [
        "y_pred_proba = nb_classifier.predict_proba(X_test)[:, 1]"
      ],
      "metadata": {
        "id": "kKX7RkMO1rNW",
        "outputId": "9ad943b8-d7c1-4c8d-871e-d83c60c59e55",
        "colab": {
          "base_uri": "https://localhost:8080/"
        }
      },
      "execution_count": 24,
      "outputs": [
        {
          "output_type": "stream",
          "name": "stderr",
          "text": [
            "/usr/local/lib/python3.10/dist-packages/sklearn/base.py:432: UserWarning: X has feature names, but MultinomialNB was fitted without feature names\n",
            "  warnings.warn(\n"
          ]
        }
      ]
    },
    {
      "cell_type": "code",
      "source": [
        "print(\"Original Class Distribution:\")\n",
        "print(df[\"spam\"].value_counts())"
      ],
      "metadata": {
        "id": "7UlMms-j6rLm",
        "outputId": "836586e8-906b-4e5c-d3d7-3132a4691a6e",
        "colab": {
          "base_uri": "https://localhost:8080/"
        }
      },
      "execution_count": 25,
      "outputs": [
        {
          "output_type": "stream",
          "name": "stdout",
          "text": [
            "Original Class Distribution:\n",
            "0    857\n",
            "1      7\n",
            "2      1\n",
            "Name: spam, dtype: int64\n"
          ]
        }
      ]
    },
    {
      "cell_type": "code",
      "source": [
        "print(\"Training Class Distribution:\")\n",
        "print(y_train.value_counts())\n",
        "\n",
        "print(\"Testing Class Distribution:\")\n",
        "print(y_test.value_counts())\n"
      ],
      "metadata": {
        "id": "ikZdtkW57NNc",
        "outputId": "c24a02db-759f-416e-8113-7299969710ac",
        "colab": {
          "base_uri": "https://localhost:8080/"
        }
      },
      "execution_count": 26,
      "outputs": [
        {
          "output_type": "stream",
          "name": "stdout",
          "text": [
            "Training Class Distribution:\n",
            "0    685\n",
            "1      6\n",
            "2      1\n",
            "Name: spam, dtype: int64\n",
            "Testing Class Distribution:\n",
            "0    172\n",
            "1      1\n",
            "Name: spam, dtype: int64\n"
          ]
        }
      ]
    },
    {
      "cell_type": "code",
      "source": [
        "from sklearn.metrics import roc_curve, roc_auc_score\n",
        "\n",
        "fpr, tpr, thresholds = roc_curve(y_test, y_pred_proba)\n",
        "auc_score = roc_auc_score(y_test, y_pred_proba)\n",
        "\n",
        "plt.figure(figsize=(8, 6))\n",
        "plt.plot(fpr, tpr, label=\"ROC Curve (AUC = {:.2f})\".format(auc_score))\n",
        "plt.plot([0, 1], [0, 1], \"k--\")\n",
        "plt.xlim([0, 1])\n",
        "plt.ylim([0, 1.05])\n",
        "plt.xlabel(\"False Positive Rate\")\n",
        "plt.ylabel(\"True Positive Rate\")\n",
        "plt.title(\"Receiver Operating Characteristic\")\n",
        "plt.legend(loc=\"lower right\")\n",
        "plt.show()"
      ],
      "metadata": {
        "id": "lGE99AU13Zwv",
        "outputId": "fa2a3f02-5ff4-45a0-e4dc-ef3afac698aa",
        "colab": {
          "base_uri": "https://localhost:8080/",
          "height": 564
        }
      },
      "execution_count": 27,
      "outputs": [
        {
          "output_type": "display_data",
          "data": {
            "text/plain": [
              "<Figure size 800x600 with 1 Axes>"
            ],
            "image/png": "[encoded data removed]"
          },
          "metadata": {}
        }
      ]
    },
    {
      "cell_type": "markdown",
      "source": [
        "## Plot the confusion Matrix"
      ],
      "metadata": {
        "datalore": {
          "node_id": "g6MfgE1AdZhjcc50qcKU1s",
          "type": "MD",
          "hide_input_from_viewers": true,
          "hide_output_from_viewers": true
        },
        "id": "2HNQQaK4edIs"
      }
    },
    {
      "cell_type": "code",
      "source": [
        "# Print Confusion Matrix using any 5 words of your choice with the column 'spam'"
      ],
      "execution_count": 28,
      "outputs": [],
      "metadata": {
        "datalore": {
          "node_id": "tiAhIiHk0VOWiKcZY5FLXw",
          "type": "CODE",
          "hide_input_from_viewers": true,
          "hide_output_from_viewers": true
        },
        "id": "ECrAGbl0edIt"
      }
    },
    {
      "cell_type": "code",
      "source": [
        "from sklearn.model_selection import train_test_split\n",
        "from sklearn.naive_bayes import MultinomialNB\n",
        "from sklearn.impute import SimpleImputer\n",
        "from sklearn.metrics import confusion_matrix\n",
        "\n",
        "# Selecting 5 words of my choice as features\n",
        "selected_words = ['accepted', 'prompt', 'Prediction', 'database', 'model']\n",
        "\n",
        "X = df[selected_words]\n",
        "y = df['spam']\n",
        "\n",
        "X_train, X_test, y_train, y_test = train_test_split(X, y, test_size=0.2, random_state=42)\n",
        "\n",
        "# Handle missing values in the training set\n",
        "imputer = SimpleImputer()\n",
        "X_train_imputed = imputer.fit_transform(X_train)\n",
        "\n",
        "# Train the classifier model\n",
        "model = MultinomialNB()\n",
        "model.fit(X_train_imputed, y_train)\n",
        "\n",
        "X_test_imputed = imputer.transform(X_test)\n",
        "y_pred = model.predict(X_test_imputed)\n",
        "\n",
        "\n",
        "confusion_matrix = confusion_matrix(y_test, y_pred)\n",
        "\n",
        "print(\"Confusion Matrix:\")\n",
        "print(confusion_matrix)"
      ],
      "metadata": {
        "id": "Jsc5XQpKSrqQ",
        "outputId": "2a210153-9235-448a-9fba-3e1c819d3af4",
        "colab": {
          "base_uri": "https://localhost:8080/"
        }
      },
      "execution_count": 43,
      "outputs": [
        {
          "output_type": "stream",
          "name": "stdout",
          "text": [
            "Confusion Matrix:\n",
            "[[172   0]\n",
            " [  1   0]]\n"
          ]
        }
      ]
    },
    {
      "cell_type": "markdown",
      "source": [
        "## Trying out with SVMs"
      ],
      "metadata": {
        "datalore": {
          "node_id": "HF7SHfRsuivs31MT5QEdYU",
          "type": "MD",
          "hide_input_from_viewers": true,
          "hide_output_from_viewers": true
        },
        "id": "gSBeUckXedIu"
      }
    },
    {
      "cell_type": "code",
      "source": [
        "# Try using Support Vector Classifier (SVC) from scikit-learn\n",
        "# Apply similar processes as above through SVC i.e., Make prediction, check accuacy and plot confusion matrix"
      ],
      "execution_count": 37,
      "outputs": [],
      "metadata": {
        "datalore": {
          "node_id": "dharQLmMD4LOZurvenkdom",
          "type": "CODE",
          "hide_input_from_viewers": true,
          "hide_output_from_viewers": true
        },
        "id": "Ei3YsKdGedIu"
      }
    },
    {
      "cell_type": "code",
      "source": [
        "from sklearn.svm import SVC\n",
        "from sklearn.metrics import accuracy_score, confusion_matrix\n",
        "from sklearn.impute import SimpleImputer\n",
        "import seaborn as sns\n",
        "\n",
        "selected_words = ['accepted', 'prompt', 'Prediction', 'database', 'model']\n",
        "\n",
        "X = df[selected_words]\n",
        "y = df['spam']\n",
        "\n",
        "X_train, X_test, y_train, y_test = train_test_split(X, y, test_size=0.2, random_state=42)\n",
        "\n",
        "imputer = SimpleImputer()\n",
        "X_train = imputer.fit_transform(X_train)\n",
        "X_test = imputer.transform(X_test)\n",
        "\n",
        "# the SVC model\n",
        "model = SVC()\n",
        "model.fit(X_train, y_train)\n",
        "\n",
        "y_pred = model.predict(X_test)\n",
        "\n",
        "accuracy = accuracy_score(y_test, y_pred)\n",
        "print(\"Accuracy:\", accuracy)\n",
        "\n",
        "confusion_matrix = confusion_matrix(y_test, y_pred)"
      ],
      "metadata": {
        "id": "HZwvFcdDYM0q",
        "outputId": "c1749106-d099-4e36-8cd5-c7ee2b2446fa",
        "colab": {
          "base_uri": "https://localhost:8080/"
        }
      },
      "execution_count": 40,
      "outputs": [
        {
          "output_type": "stream",
          "name": "stdout",
          "text": [
            "Accuracy: 0.9942196531791907\n"
          ]
        }
      ]
    },
    {
      "cell_type": "code",
      "source": [
        "plt.figure(figsize=(8, 6))\n",
        "sns.heatmap(confusion_matrix, annot=True, fmt='d', cmap='Blues')\n",
        "plt.xlabel('Predicted')\n",
        "plt.ylabel('Actual')\n",
        "plt.title('Confusion Matrix')\n",
        "plt.show()"
      ],
      "metadata": {
        "id": "5ALFURiXYOL5",
        "outputId": "461bb6f4-48f0-48f5-abd1-4dc37b5301ea",
        "colab": {
          "base_uri": "https://localhost:8080/",
          "height": 564
        }
      },
      "execution_count": 41,
      "outputs": [
        {
          "output_type": "display_data",
          "data": {
            "text/plain": [
              "<Figure size 800x600 with 2 Axes>"
            ],
            "image/png": "[encoded data removed]"
          },
          "metadata": {}
        }
      ]
    },
    {
      "cell_type": "markdown",
      "source": [
        "## Comparing the models"
      ],
      "metadata": {
        "datalore": {
          "node_id": "rDs3zZmLCuEMozF6sE4QdY",
          "type": "MD",
          "hide_input_from_viewers": true,
          "hide_output_from_viewers": true
        },
        "id": "FApqEPbLedIw"
      }
    },
    {
      "cell_type": "code",
      "source": [
        "# Which model performed better?\n",
        "# Can you suggest some reason for better performance of one model over the other?"
      ],
      "execution_count": 44,
      "outputs": [],
      "metadata": {
        "datalore": {
          "node_id": "OXkV2RFBF1Ld7DQFVa6083",
          "type": "CODE",
          "hide_input_from_viewers": true,
          "hide_output_from_viewers": true
        },
        "id": "0ICR21gXedIw"
      }
    },
    {
      "cell_type": "markdown",
      "source": [
        "Both the Multinomial Naive Bayes (MNB) model and the Support Vector Classifier (SVC) model have the same accuracy scores, it suggests that they perform similarly in terms of their ability to correctly classify the data."
      ],
      "metadata": {
        "id": "FnX88MoCfp90"
      }
    },
    {
      "cell_type": "markdown",
      "source": [
        "## Bonus Question"
      ],
      "metadata": {
        "datalore": {
          "node_id": "ZaqRxhVmJPCcmG1rd2ksQs",
          "type": "MD",
          "hide_input_from_viewers": true,
          "hide_output_from_viewers": true
        },
        "id": "4EggJTFQedIx"
      }
    },
    {
      "cell_type": "code",
      "source": [
        "# Given a string. Try to create the dataset having each word of dataset as column and row values as the frequency of that word.\n",
        "# For example\n",
        "# s = \"I am a Python developer and currently working on a project to classify mails\"\n",
        "# dataframe = {\"I\" : 1,\n",
        "#              \"am\" :1,\n",
        "#              \"a\" : 2,\n",
        "#               ...}"
      ],
      "execution_count": 45,
      "outputs": [],
      "metadata": {
        "datalore": {
          "node_id": "AlYkiwHK5HWuVKBPZBPTuj",
          "type": "CODE",
          "hide_input_from_viewers": true,
          "hide_output_from_viewers": true
        },
        "id": "VDA-NakBedIy"
      }
    },
    {
      "cell_type": "code",
      "source": [],
      "metadata": {
        "id": "RL2ZgNEIh1dA"
      },
      "execution_count": null,
      "outputs": []
    },
    {
      "cell_type": "code",
      "source": [
        "s = \"I am a Python developer and currently working on a project to classify mails\"\n",
        "\n",
        "# Tokenize\n",
        "tokens = s.split()\n",
        "\n",
        "# the frequency of each word\n",
        "word_freq = {}\n",
        "for word in tokens:\n",
        "    if word in word_freq:\n",
        "        word_freq[word] += 1\n",
        "    else:\n",
        "        word_freq[word] = 1\n",
        "\n",
        "# Creatting the dataframe\n",
        "df = pd.DataFrame({\"Word\": word_freq.keys(), \"Frequency\": word_freq.values()})\n",
        "\n",
        "print(df)\n"
      ],
      "metadata": {
        "id": "_hLRif-3hvuV",
        "outputId": "a8559d0e-4360-42c0-aa5e-10da9c7e179c",
        "colab": {
          "base_uri": "https://localhost:8080/"
        }
      },
      "execution_count": 46,
      "outputs": [
        {
          "output_type": "stream",
          "name": "stdout",
          "text": [
            "         Word  Frequency\n",
            "0           I          1\n",
            "1          am          1\n",
            "2           a          2\n",
            "3      Python          1\n",
            "4   developer          1\n",
            "5         and          1\n",
            "6   currently          1\n",
            "7     working          1\n",
            "8          on          1\n",
            "9     project          1\n",
            "10         to          1\n",
            "11   classify          1\n",
            "12      mails          1\n"
          ]
        }
      ]
    },
    {
      "cell_type": "code",
      "source": [],
      "metadata": {
        "id": "GC1_L6uThnck"
      },
      "execution_count": null,
      "outputs": []
    }
  ],
  "metadata": {
    "kernelspec": {
      "display_name": "Python 3",
      "name": "python3"
    },
    "datalore": {
      "computation_mode": "JUPYTER",
      "package_manager": "pip",
      "base_environment": "default",
      "packages": [],
      "report_row_ids": [],
      "version": 3
    },
    "colab": {
      "provenance": [],
      "include_colab_link": true
    },
    "language_info": {
      "name": "python"
    }
  },
  "nbformat": 4,
  "nbformat_minor": 0
}